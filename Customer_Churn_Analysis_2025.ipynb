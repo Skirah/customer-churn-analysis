{
 "cells": [
  {
   "cell_type": "code",
   "execution_count": null,
   "id": "ddda88bd",
   "metadata": {},
   "outputs": [],
   "source": [
    "# Import necessary libraries\n",
    "import pandas as pd\n",
    "import matplotlib.pyplot as plt\n",
    "import seaborn as sns\n",
    "from sklearn.model_selection import train_test_split\n",
    "from sklearn.linear_model import LogisticRegression\n",
    "from sklearn.metrics import classification_report, confusion_matrix, accuracy_score"
   ]
  },
  {
   "cell_type": "code",
   "execution_count": null,
   "id": "7baaffba",
   "metadata": {},
   "outputs": [],
   "source": [
    "# Function to create and show plots\n",
    "def plot_heatmap(data, index, columns, values, title, xlabel, ylabel):\n",
    "    heatmap_data = data.pivot_table(index=index, columns=columns, values=values, aggfunc='count')\n",
    "    plt.figure(figsize=(10, 6))\n",
    "    sns.heatmap(heatmap_data, annot=True, fmt='d', cmap='coolwarm', cbar=True)\n",
    "    plt.title(title)\n",
    "    plt.xlabel(xlabel)\n",
    "    plt.ylabel(ylabel)\n",
    "    plt.show()"
   ]
  },
  {
   "cell_type": "code",
   "execution_count": null,
   "id": "e37ce512",
   "metadata": {},
   "outputs": [],
   "source": [
    "\n",
    "# Load the dataset\n",
    "file_path = \"/Users/shakirahbenson/Python Projects/pythonProject/E Commerce Dataset(E Comm).csv\"  # Update this path\n",
    "data = pd.read_csv(file_path)"
   ]
  },
  {
   "cell_type": "code",
   "execution_count": null,
   "id": "7ca14b8c",
   "metadata": {},
   "outputs": [],
   "source": [
    "# Data cleaning\n",
    "numeric_columns = ['Tenure', 'SatisfactionScore', 'OrderCount']\n",
    "for col in numeric_columns:\n",
    "    data[col] = pd.to_numeric(data[col], errors='coerce')\n",
    "    data[col].fillna(data[col].mean(), inplace=True)"
   ]
  },
  {
   "cell_type": "code",
   "execution_count": null,
   "id": "c2a01f79",
   "metadata": {},
   "outputs": [],
   "source": [
    "# Handle missing values\n",
    "data.fillna(method='ffill', inplace=True)"
   ]
  },
  {
   "cell_type": "code",
   "execution_count": null,
   "id": "048a23aa",
   "metadata": {},
   "outputs": [],
   "source": [
    "# Inspect dataset\n",
    "print(\"First 5 rows of the dataset:\")\n",
    "print(data.head())\n",
    "print(\"\\nDataset Info:\")\n",
    "print(data.info())"
   ]
  },
  {
   "cell_type": "code",
   "execution_count": null,
   "id": "f74cafb8",
   "metadata": {},
   "outputs": [],
   "source": [
    "\n",
    "# Ensure the correlation matrix only uses numeric columns\n",
    "numeric_data = data.select_dtypes(include=['float64', 'int64'])  # Select only numeric columns\n",
    "correlation_matrix = numeric_data.corr()  # Calculate correlation matrix"
   ]
  },
  {
   "cell_type": "code",
   "execution_count": null,
   "id": "def66629",
   "metadata": {},
   "outputs": [],
   "source": [
    "# Plot the heatmap\n",
    "columns_to_exclude = ['CustomerID']  # Add or remove columns as needed\n",
    "filtered_data = numeric_data.drop(columns=columns_to_exclude)"
   ]
  },
  {
   "cell_type": "code",
   "execution_count": null,
   "id": "4cc2037a",
   "metadata": {},
   "outputs": [],
   "source": [
    "# Compute the correlation matrix\n",
    "correlation_matrix = filtered_data.corr()"
   ]
  },
  {
   "cell_type": "code",
   "execution_count": null,
   "id": "27c43c56",
   "metadata": {},
   "outputs": [],
   "source": [
    "# Heatmap Coorelation Matrix\n",
    "plt.figure(figsize=(12, 10))  \n",
    "sns.heatmap(\n",
    "    correlation_matrix,\n",
    "    annot=True,               # Add values to the heatmap\n",
    "    cmap='coolwarm',          \n",
    "    annot_kws={\"size\": 8},    # Reduce font size of annotations\n",
    "    fmt=\".2f\"                 # Limit to 2 decimal places for clarity\n",
    ")\n",
    "plt.title('Correlation Matrix', fontsize=16)  \n",
    "plt.xticks(fontsize=10)      \n",
    "plt.yticks(fontsize=10)      \n",
    "plt.tight_layout()           \n",
    "plt.show()"
   ]
  },
  {
   "cell_type": "code",
   "execution_count": null,
   "id": "b72a86cf",
   "metadata": {},
   "outputs": [],
   "source": [
    "# Visualizations\n",
    "# Satisfaction score distribution\n",
    "plt.figure(figsize=(8, 6))\n",
    "sns.histplot(data['SatisfactionScore'], bins=10, kde=True)\n",
    "plt.title('Distribution of Customer Satisfaction Scores')\n",
    "plt.xlabel('Satisfaction Score')\n",
    "plt.ylabel('Frequency')\n",
    "plt.show()"
   ]
  },
  {
   "cell_type": "code",
   "execution_count": null,
   "id": "f27c6526",
   "metadata": {},
   "outputs": [],
   "source": [
    "# Preferred payment methods\n",
    "plt.figure(figsize=(8, 6))\n",
    "sns.countplot(y=data['PreferredPaymentMode'], order=data['PreferredPaymentMode'].value_counts().index)\n",
    "plt.title('Preferred Payment Modes')\n",
    "plt.xlabel('Count')\n",
    "plt.ylabel('Payment Mode')\n",
    "plt.show()"
   ]
  },
  {
   "cell_type": "code",
   "execution_count": null,
   "id": "be4e4e88",
   "metadata": {},
   "outputs": [],
   "source": [
    "# Tenure vs Churn\n",
    "plt.figure(figsize=(10, 6))\n",
    "sns.boxplot(x='Churn', y='Tenure', data=data)\n",
    "plt.title('Tenure vs Churn')\n",
    "plt.xlabel('Churn')\n",
    "plt.ylabel('Tenure')\n",
    "plt.show()"
   ]
  },
  {
   "cell_type": "code",
   "execution_count": null,
   "id": "87adf780",
   "metadata": {},
   "outputs": [],
   "source": [
    "# Gender Distribution by Churn\n",
    "plt.figure(figsize=(10, 6))\n",
    "sns.countplot(x='Churn', hue='Gender', data=data)\n",
    "plt.title('Gender Distribution by Churn')\n",
    "plt.xlabel('Churn')\n",
    "plt.ylabel('Count')\n",
    "plt.show()"
   ]
  },
  {
   "cell_type": "code",
   "execution_count": null,
   "id": "0864c0bc",
   "metadata": {},
   "outputs": [],
   "source": [
    "# Ensure numeric columns are properly converted\n",
    "numeric_columns = ['OrderCount', 'Tenure', 'SatisfactionScore']\n",
    "for col in numeric_columns:\n",
    "    data[col] = pd.to_numeric(data[col], errors='coerce')\n",
    "    data[col].fillna(data[col].mean(), inplace=True)"
   ]
  },
  {
   "cell_type": "code",
   "execution_count": null,
   "id": "009cc356",
   "metadata": {},
   "outputs": [],
   "source": [
    "data.fillna(method='ffill', inplace=True)  # Handle any remaining missing values"
   ]
  },
  {
   "cell_type": "code",
   "execution_count": null,
   "id": "f421d300",
   "metadata": {},
   "outputs": [],
   "source": [
    "# Categorize OrderCount into bins for better visualization\n",
    "data['OrderCountBins'] = pd.cut(data['OrderCount'], bins=[0, 5, 10, 20, 50, 100], \n",
    "                                labels=['0-5', '6-10', '11-20', '21-50', '51-100'], include_lowest=True)"
   ]
  },
  {
   "cell_type": "code",
   "execution_count": null,
   "id": "79b24384",
   "metadata": {},
   "outputs": [],
   "source": [
    "# Calculate churn rate for each bin\n",
    "order_churn_rate = data.groupby('OrderCountBins')['Churn'].mean().reset_index()\n",
    "order_churn_rate.rename(columns={'Churn': 'ChurnRate'}, inplace=True)"
   ]
  },
  {
   "cell_type": "code",
   "execution_count": null,
   "id": "44b4a59f",
   "metadata": {},
   "outputs": [],
   "source": [
    "# Plot the churn rate by OrderCount bins\n",
    "plt.figure(figsize=(10, 6))\n",
    "sns.barplot(x='OrderCountBins', y='ChurnRate', data=order_churn_rate, palette='viridis')\n",
    "plt.title('Churn Rate by Order Count', fontsize=16)\n",
    "plt.xlabel('Order Count Range', fontsize=14)\n",
    "plt.ylabel('Churn Rate', fontsize=14)\n",
    "plt.xticks(fontsize=12)\n",
    "plt.yticks(fontsize=12)\n",
    "plt.show()"
   ]
  },
  {
   "cell_type": "code",
   "execution_count": null,
   "id": "6c1dd4c1",
   "metadata": {},
   "outputs": [],
   "source": [
    "\n",
    "# Complaints and Churn\n",
    "complaint_churn_data = data.groupby(['Complain', 'Churn']).size().unstack()\n",
    "complaint_churn_data.plot(kind='bar', stacked=True, figsize=(10, 6))\n",
    "plt.title('Complaints and Churn Relationship')\n",
    "plt.xlabel('Complaint Status')\n",
    "plt.ylabel('Count')\n",
    "plt.legend(title='Churn', labels=['No Churn', 'Churn'])\n",
    "plt.show()"
   ]
  },
  {
   "cell_type": "code",
   "execution_count": null,
   "id": "fc3b821a",
   "metadata": {},
   "outputs": [],
   "source": [
    "# Update the heatmap to use 'sum'\n",
    "def plot_heatmap(data, index, columns, values, title, xlabel, ylabel):\n",
    "    heatmap_data = data.pivot_table(index=index, columns=columns, values=values, aggfunc='sum')\n",
    "    plt.figure(figsize=(10, 6))\n",
    "    sns.heatmap(heatmap_data, annot=True, fmt='.1f', cmap='coolwarm', cbar=True)\n",
    "    plt.title(title)\n",
    "    plt.xlabel(xlabel)\n",
    "    plt.ylabel(ylabel)\n",
    "    plt.show()"
   ]
  },
  {
   "cell_type": "code",
   "execution_count": null,
   "id": "02cb6c0e",
   "metadata": {},
   "outputs": [],
   "source": [
    "# Gender vs Preferred Cat\n",
    "plot_heatmap(data, 'Gender', 'PreferedOrderCat', 'Churn', \n",
    "             'Preferred Order Category by Gender (Churn)', \n",
    "             'Preferred Order Category', 'Gender')"
   ]
  },
  {
   "cell_type": "code",
   "execution_count": null,
   "id": "74c8f2c3",
   "metadata": {},
   "outputs": [],
   "source": [
    "from sklearn.cluster import KMeans\n",
    "from sklearn.preprocessing import StandardScaler"
   ]
  },
  {
   "cell_type": "code",
   "execution_count": null,
   "id": "2ccc389b",
   "metadata": {},
   "outputs": [],
   "source": [
    "# Select features for clustering\n",
    "clustering_features = ['Tenure', 'SatisfactionScore', 'OrderCount']\n",
    "X = data[clustering_features]"
   ]
  },
  {
   "cell_type": "code",
   "execution_count": null,
   "id": "5cf8f86f",
   "metadata": {},
   "outputs": [],
   "source": [
    "# Standardize the features\n",
    "scaler = StandardScaler()\n",
    "X_scaled = scaler.fit_transform(X)"
   ]
  },
  {
   "cell_type": "code",
   "execution_count": null,
   "id": "8e0b318d",
   "metadata": {},
   "outputs": [],
   "source": [
    "# Perform K-Means clustering\n",
    "kmeans = KMeans(n_clusters=3, random_state=42)  # You can tune the number of clusters\n",
    "data['CustomerSegment'] = kmeans.fit_predict(X_scaled)"
   ]
  },
  {
   "cell_type": "code",
   "execution_count": null,
   "id": "08b7134a",
   "metadata": {},
   "outputs": [],
   "source": [
    "# Visualize the clusters\n",
    "plt.figure(figsize=(10, 6))\n",
    "sns.scatterplot(x=data['Tenure'], y=data['SatisfactionScore'], hue=data['CustomerSegment'], palette='viridis', s=100)\n",
    "plt.title('Customer Segmentation')\n",
    "plt.xlabel('Tenure')\n",
    "plt.ylabel('Satisfaction Score')\n",
    "plt.legend(title='Segment')\n",
    "plt.show()"
   ]
  },
  {
   "cell_type": "code",
   "execution_count": null,
   "id": "5218499e",
   "metadata": {},
   "outputs": [],
   "source": [
    "# Analyze cluster characteristics\n",
    "cluster_summary = data.groupby('CustomerSegment')[clustering_features].mean()\n",
    "print(\"Cluster Summary:\")\n",
    "print(cluster_summary)"
   ]
  },
  {
   "cell_type": "code",
   "execution_count": null,
   "id": "9d28f0a2",
   "metadata": {},
   "outputs": [],
   "source": [
    "# Calculate total revenue per customer\n",
    "customer_revenue = data.groupby('CustomerID')['CashbackAmount'].sum()"
   ]
  },
  {
   "cell_type": "code",
   "execution_count": null,
   "id": "8c3a3a70",
   "metadata": {},
   "outputs": [],
   "source": [
    "# Average revenue per customer\n",
    "avg_revenue = customer_revenue.mean()"
   ]
  },
  {
   "cell_type": "code",
   "execution_count": null,
   "id": "6d51e6be",
   "metadata": {},
   "outputs": [],
   "source": [
    "# Estimate churn probability using logistic regression\n",
    "from sklearn.linear_model import LogisticRegression"
   ]
  },
  {
   "cell_type": "code",
   "execution_count": null,
   "id": "d8afdb66",
   "metadata": {},
   "outputs": [],
   "source": [
    "# Select relevant features\n",
    "features = ['Tenure', 'OrderCount', 'SatisfactionScore', 'CouponUsed']\n",
    "X = data[features]\n",
    "y = data['Churn']"
   ]
  },
  {
   "cell_type": "code",
   "execution_count": null,
   "id": "b51d7ca9",
   "metadata": {},
   "outputs": [],
   "source": [
    "# Train logistic model\n",
    "model = LogisticRegression()\n",
    "model.fit(X, y)"
   ]
  },
  {
   "cell_type": "code",
   "execution_count": null,
   "id": "cbfc9d04",
   "metadata": {},
   "outputs": [],
   "source": [
    "# Predict churn probability\n",
    "data['ChurnProbability'] = model.predict_proba(X)[:, 1]"
   ]
  },
  {
   "cell_type": "code",
   "execution_count": null,
   "id": "b74f5e3a",
   "metadata": {},
   "outputs": [],
   "source": [
    "# Compute expected CLV\n",
    "data['CLV'] = data['CashbackAmount'] * (1 - data['ChurnProbability'])"
   ]
  },
  {
   "cell_type": "code",
   "execution_count": null,
   "id": "7ddd0bf9",
   "metadata": {},
   "outputs": [],
   "source": [
    "# Display high-value customers\n",
    "high_value_customers = data[['CustomerID', 'CLV']].sort_values(by='CLV', ascending=False)\n",
    "print(high_value_customers.head(10))"
   ]
  },
  {
   "cell_type": "code",
   "execution_count": null,
   "id": "8ca2ba7c",
   "metadata": {},
   "outputs": [],
   "source": [
    "from sklearn.model_selection import train_test_split\n",
    "from sklearn.ensemble import RandomForestClassifier\n",
    "from sklearn.metrics import classification_report"
   ]
  },
  {
   "cell_type": "code",
   "execution_count": null,
   "id": "157e98e1",
   "metadata": {},
   "outputs": [],
   "source": [
    "# Prepare features and target\n",
    "X = data[['Tenure', 'OrderCount', 'SatisfactionScore', 'CouponUsed']]\n",
    "y = data['Churn']"
   ]
  },
  {
   "cell_type": "code",
   "execution_count": null,
   "id": "a5c03fd3",
   "metadata": {},
   "outputs": [],
   "source": [
    "# Split into train-test sets\n",
    "X_train, X_test, y_train, y_test = train_test_split(X, y, test_size=0.2, random_state=42)"
   ]
  },
  {
   "cell_type": "code",
   "execution_count": null,
   "id": "e5ffdd39",
   "metadata": {},
   "outputs": [],
   "source": [
    "# Train model\n",
    "model = RandomForestClassifier(n_estimators=100, random_state=42)\n",
    "model.fit(X_train, y_train)"
   ]
  },
  {
   "cell_type": "code",
   "execution_count": null,
   "id": "e6e56426",
   "metadata": {},
   "outputs": [],
   "source": [
    "# Predict churn\n",
    "y_pred = model.predict(X_test)"
   ]
  },
  {
   "cell_type": "code",
   "execution_count": null,
   "id": "c68691ad",
   "metadata": {},
   "outputs": [],
   "source": [
    "# Show performance\n",
    "print(classification_report(y_test, y_pred))"
   ]
  }
 ],
 "metadata": {},
 "nbformat": 4,
 "nbformat_minor": 5
}
